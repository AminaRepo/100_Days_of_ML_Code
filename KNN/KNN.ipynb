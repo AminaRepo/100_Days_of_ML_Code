{
  "nbformat": 4,
  "nbformat_minor": 0,
  "metadata": {
    "colab": {
      "name": "KNN.ipynb",
      "version": "0.3.2",
      "provenance": [],
      "collapsed_sections": []
    },
    "kernelspec": {
      "name": "python3",
      "display_name": "Python 3"
    }
  },
  "cells": [
    {
      "metadata": {
        "id": "fArdbq2L-DTi",
        "colab_type": "code",
        "colab": {
          "resources": {
            "http://localhost:8080/nbextensions/google.colab/files.js": {
              "data": "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",
              "ok": true,
              "headers": [
                [
                  "content-type",
                  "application/javascript"
                ]
              ],
              "status": 200,
              "status_text": "OK"
            }
          },
          "base_uri": "https://localhost:8080/",
          "height": 164
        },
        "outputId": "44a425ca-570f-4fde-8d8d-6eb0a939c383"
      },
      "cell_type": "code",
      "source": [
        "# upload files\n",
        "!ls\n",
        "from google.colab import files\n",
        "myFile= files.upload()"
      ],
      "execution_count": 4,
      "outputs": [
        {
          "output_type": "stream",
          "text": [
            "sample_data\n"
          ],
          "name": "stdout"
        },
        {
          "output_type": "display_data",
          "data": {
            "text/html": [
              "\n",
              "     <input type=\"file\" id=\"files-9bb80ebd-7ee8-4191-a0de-f25245a88105\" name=\"files[]\" multiple disabled />\n",
              "     <output id=\"result-9bb80ebd-7ee8-4191-a0de-f25245a88105\">\n",
              "      Upload widget is only available when the cell has been executed in the\n",
              "      current browser session. Please rerun this cell to enable.\n",
              "      </output>\n",
              "      <script src=\"/nbextensions/google.colab/files.js\"></script> "
            ],
            "text/plain": [
              "<IPython.core.display.HTML object>"
            ]
          },
          "metadata": {
            "tags": []
          }
        },
        {
          "output_type": "stream",
          "text": [
            "Saving y.csv to y.csv\n",
            "Saving X_t.csv to X_t.csv\n",
            "Saving X.csv to X.csv\n"
          ],
          "name": "stdout"
        }
      ]
    },
    {
      "metadata": {
        "id": "j8aWD5sM-rrK",
        "colab_type": "code",
        "colab": {
          "base_uri": "https://localhost:8080/",
          "height": 52
        },
        "outputId": "d8ccace0-58af-411e-eb5c-fa38bc3e5b99"
      },
      "cell_type": "code",
      "source": [
        "# read the files\n",
        "!ls\n",
        "import pandas as pd\n",
        "import numpy as np\n",
        "import matplotlib.pyplot as plt\n",
        "from sklearn.mixture import GMM\n",
        "\n",
        "\n",
        "import warnings\n",
        "warnings.filterwarnings('ignore')\n",
        "\n",
        "Xdf= pd.read_csv('X.csv',header=None,delimiter=\" \")\n",
        "ydf= pd.read_csv('y.csv',header=None,delimiter=\" \")\n",
        "X_tdf= pd.read_csv('X_t.csv',header=None,delimiter=\" \")\n",
        "Xdf=Xdf.drop(0,axis=1)\n",
        "X_tdf=X_tdf.drop(0,axis=1)\n",
        "\n",
        "\n",
        "Xdf_v=Xdf.values\n",
        "Xdf.values.shape"
      ],
      "execution_count": 94,
      "outputs": [
        {
          "output_type": "stream",
          "text": [
            "sample_data  X.csv  X_t.csv  y.csv\n"
          ],
          "name": "stdout"
        },
        {
          "output_type": "execute_result",
          "data": {
            "text/plain": [
              "(180, 13)"
            ]
          },
          "metadata": {
            "tags": []
          },
          "execution_count": 94
        }
      ]
    },
    {
      "metadata": {
        "id": "P2cX_yY__q0Y",
        "colab_type": "code",
        "colab": {}
      },
      "cell_type": "code",
      "source": [
        "# split the labeled data into training and testing sets\n",
        "from sklearn.model_selection import train_test_split\n",
        "X_train, X_test, y_train, y_test = train_test_split(Xdf_v,ydf.values, test_size=0.3) # 80% training and 20% test"
      ],
      "execution_count": 0,
      "outputs": []
    },
    {
      "metadata": {
        "id": "kGLIM4zvBDLM",
        "colab_type": "code",
        "colab": {}
      },
      "cell_type": "code",
      "source": [
        "# evaluate the errors corresponding to the different K values used in KNN classification\n",
        "from sklearn.neighbors import KNeighborsClassifier\n",
        "from sklearn import metrics\n",
        "acc=[]\n",
        "\n",
        "for i in range(1,10):\n",
        "  knn = KNeighborsClassifier(n_neighbors=i)\n",
        "  knn.fit(X_train, y_train)\n",
        "  y_pred = knn.predict(X_test)\n",
        "  acc.append(metrics.accuracy_score(y_test, y_pred))\n",
        " \n",
        "\n"
      ],
      "execution_count": 0,
      "outputs": []
    },
    {
      "metadata": {
        "id": "4XrqnucrB5Aa",
        "colab_type": "code",
        "colab": {
          "base_uri": "https://localhost:8080/",
          "height": 364
        },
        "outputId": "1ecb651c-5494-4411-f4b3-932877a96ed6"
      },
      "cell_type": "code",
      "source": [
        "# plot the errors corresponding to each k value\n",
        "import matplotlib.pyplot as plt\n",
        "\n",
        "kv=list(range(1,10))\n",
        "plt.plot(kv, acc,label='line 1')\n"
      ],
      "execution_count": 103,
      "outputs": [
        {
          "output_type": "execute_result",
          "data": {
            "text/plain": [
              "[<matplotlib.lines.Line2D at 0x7f7182b9bf60>]"
            ]
          },
          "metadata": {
            "tags": []
          },
          "execution_count": 103
        },
        {
          "output_type": "display_data",
          "data": {
            "image/png": "[encoded data removed]",
            "text/plain": [
              "<matplotlib.figure.Figure at 0x7f7182c37898>"
            ]
          },
          "metadata": {
            "tags": []
          }
        }
      ]
    },
    {
      "metadata": {
        "id": "QGReFlboIlsS",
        "colab_type": "code",
        "colab": {
          "base_uri": "https://localhost:8080/",
          "height": 34
        },
        "outputId": "6d85b751-6a70-4644-8e2e-f412f90af573"
      },
      "cell_type": "code",
      "source": [
        "  knn = KNeighborsClassifier(n_neighbors=8)\n",
        "  knn.fit(X_train, y_train)\n",
        "  y_pred = knn.predict(X_test)\n",
        "  print(metrics.accuracy_score(y_test, y_pred))"
      ],
      "execution_count": 104,
      "outputs": [
        {
          "output_type": "stream",
          "text": [
            "0.6481481481481481\n"
          ],
          "name": "stdout"
        }
      ]
    },
    {
      "metadata": {
        "id": "psJKsMfGDst4",
        "colab_type": "code",
        "colab": {
          "base_uri": "https://localhost:8080/",
          "height": 104
        },
        "outputId": "d864b4a4-791c-4e0b-aca9-273196488ae6"
      },
      "cell_type": "code",
      "source": [
        "# the best K result correspond to K=8, so it was choosen\n",
        "knn = KNeighborsClassifier(n_neighbors=8)\n",
        "knn.fit(Xdf_v,ydf.values)\n",
        "y_my_pred= knn.predict(X_tdf.values)\n",
        "y_my_pred"
      ],
      "execution_count": 105,
      "outputs": [
        {
          "output_type": "execute_result",
          "data": {
            "text/plain": [
              "array([0, 0, 1, 0, 0, 0, 0, 1, 0, 0, 0, 0, 0, 1, 0, 0, 0, 0, 0, 0, 1, 0,\n",
              "       0, 0, 0, 1, 0, 0, 0, 0, 1, 0, 1, 0, 0, 0, 0, 0, 0, 0, 1, 0, 1, 0,\n",
              "       1, 0, 0, 1, 0, 0, 0, 0, 1, 0, 0, 0, 1, 0, 0, 0, 0, 1, 0, 1, 1, 1,\n",
              "       1, 1, 0, 1, 1, 1, 1, 1, 1, 1, 0, 0, 0, 0, 0, 0, 1, 0, 1, 0, 1, 0,\n",
              "       0, 0])"
            ]
          },
          "metadata": {
            "tags": []
          },
          "execution_count": 105
        }
      ]
    },
    {
      "metadata": {
        "id": "Qg6DZmfsu1qm",
        "colab_type": "code",
        "colab": {
          "base_uri": "https://localhost:8080/",
          "height": 1875
        },
        "outputId": "85dee3ec-bd3e-4fce-c9f4-7e718febd514"
      },
      "cell_type": "code",
      "source": [
        "from sklearn.neighbors.base import _check_weights, _get_weights\n",
        "\n",
        "# predict_proba from https://github.com/scikit-learn/scikit-learn/blob/bac89c2/sklearn/neighbors/classification.py#L164\n",
        "\n",
        "def predict_proba(knn, X):\n",
        "    neigh_dist, neigh_ind = knn.kneighbors(X)\n",
        "    print (\"[1]\",neigh_dist.shape)\n",
        "    print (\"[2]\",neigh_ind.shape)\n",
        "    classes_ = knn.classes_\n",
        "    print(\"[3]\",classes_)\n",
        "    _y = knn._y\n",
        "    print(\"[4]\",_y.shape)\n",
        "    if not knn.outputs_2d_:\n",
        "      _y = knn._y.reshape((-1, 1))\n",
        "      classes_ = [knn.classes_]\n",
        "      print(\"[5]\",\"we are here\")\n",
        "      print(\"[6]\",_y.shape)\n",
        "      print(\"[7]\",classes_)\n",
        "      n_outputs = len(classes_)\n",
        "      n_samples = X.shape[0]\n",
        "      weights = _get_weights(neigh_dist, knn.weights)\n",
        "      print(\"[8]\",weights)\n",
        "      print(\"[9]\",knn.weights)\n",
        "    if weights is None:\n",
        "       weights = np.ones_like(neigh_ind)\n",
        "       print(\"[10]\",\"we are here again\") \n",
        "       print(\"[11]\",weights.shape)\n",
        "    probabilities = []\n",
        "    for k, classes_k in enumerate(classes_):\n",
        "      pred_labels = _y[:, k][neigh_ind]      \n",
        "      print(\"[12]\",k,classes_k)\n",
        "      print(\"[12.1]\",pred_labels[0])\n",
        "      all_rows = np.arange(X.shape[0])\n",
        "      proba_k = np.zeros((n_samples, classes_k.size))\n",
        "      print(\"[13]\",proba_k.shape)\n",
        "      for i, idx in enumerate(pred_labels.T):  \n",
        "        proba_k[all_rows, idx] += weights[:, i]\n",
        "      \n",
        "      print(\"[14]\",proba_k[0])\n",
        "      normalizer = proba_k.sum(axis=1)[:, np.newaxis]\n",
        "      print(\"[15]\" ,normalizer.shape)\n",
        "      print(\"[16]\",normalizer[0])\n",
        "      normalizer[normalizer == 0.0] = 1.0\n",
        "      proba_k /= normalizer\n",
        "      print(\"[17]\",proba_k)\n",
        "      probabilities.append(proba_k)\n",
        "\n",
        "    \n",
        "#predict_proba(knn,X_tdf.values)"
      ],
      "execution_count": 167,
      "outputs": [
        {
          "output_type": "stream",
          "text": [
            "[1] (90, 8)\n",
            "[2] (90, 8)\n",
            "[3] [0 1]\n",
            "[4] (180,)\n",
            "[5] we are here\n",
            "[6] (180, 1)\n",
            "[7] [array([0, 1])]\n",
            "[8] None\n",
            "[9] uniform\n",
            "[10] we are here again\n",
            "[11] (90, 8)\n",
            "[12] 0 [0 1]\n",
            "[12.1] [1 0 0 1 0 0 0 1]\n",
            "[13] (90, 2)\n",
            "[14] [5. 3.]\n",
            "[15] (90, 1)\n",
            "[16] [8.]\n",
            "[17] [[0.625 0.375]\n",
            " [0.875 0.125]\n",
            " [0.375 0.625]\n",
            " [0.625 0.375]\n",
            " [0.5   0.5  ]\n",
            " [1.    0.   ]\n",
            " [0.5   0.5  ]\n",
            " [0.375 0.625]\n",
            " [0.625 0.375]\n",
            " [0.5   0.5  ]\n",
            " [0.875 0.125]\n",
            " [0.875 0.125]\n",
            " [1.    0.   ]\n",
            " [0.375 0.625]\n",
            " [0.75  0.25 ]\n",
            " [0.75  0.25 ]\n",
            " [0.75  0.25 ]\n",
            " [0.5   0.5  ]\n",
            " [0.5   0.5  ]\n",
            " [0.875 0.125]\n",
            " [0.375 0.625]\n",
            " [0.5   0.5  ]\n",
            " [0.875 0.125]\n",
            " [0.875 0.125]\n",
            " [0.875 0.125]\n",
            " [0.25  0.75 ]\n",
            " [0.875 0.125]\n",
            " [0.625 0.375]\n",
            " [0.75  0.25 ]\n",
            " [0.875 0.125]\n",
            " [0.25  0.75 ]\n",
            " [0.625 0.375]\n",
            " [0.375 0.625]\n",
            " [0.75  0.25 ]\n",
            " [0.5   0.5  ]\n",
            " [0.625 0.375]\n",
            " [0.75  0.25 ]\n",
            " [0.75  0.25 ]\n",
            " [0.625 0.375]\n",
            " [0.625 0.375]\n",
            " [0.25  0.75 ]\n",
            " [0.875 0.125]\n",
            " [0.375 0.625]\n",
            " [0.75  0.25 ]\n",
            " [0.25  0.75 ]\n",
            " [1.    0.   ]\n",
            " [0.75  0.25 ]\n",
            " [0.375 0.625]\n",
            " [0.625 0.375]\n",
            " [0.875 0.125]\n",
            " [0.875 0.125]\n",
            " [0.625 0.375]\n",
            " [0.25  0.75 ]\n",
            " [0.875 0.125]\n",
            " [0.5   0.5  ]\n",
            " [0.625 0.375]\n",
            " [0.25  0.75 ]\n",
            " [0.5   0.5  ]\n",
            " [0.625 0.375]\n",
            " [0.5   0.5  ]\n",
            " [0.75  0.25 ]\n",
            " [0.375 0.625]\n",
            " [0.875 0.125]\n",
            " [0.25  0.75 ]\n",
            " [0.375 0.625]\n",
            " [0.375 0.625]\n",
            " [0.25  0.75 ]\n",
            " [0.375 0.625]\n",
            " [0.5   0.5  ]\n",
            " [0.25  0.75 ]\n",
            " [0.125 0.875]\n",
            " [0.125 0.875]\n",
            " [0.125 0.875]\n",
            " [0.25  0.75 ]\n",
            " [0.125 0.875]\n",
            " [0.25  0.75 ]\n",
            " [0.75  0.25 ]\n",
            " [0.625 0.375]\n",
            " [0.625 0.375]\n",
            " [0.5   0.5  ]\n",
            " [0.625 0.375]\n",
            " [0.875 0.125]\n",
            " [0.375 0.625]\n",
            " [0.875 0.125]\n",
            " [0.25  0.75 ]\n",
            " [0.625 0.375]\n",
            " [0.375 0.625]\n",
            " [0.875 0.125]\n",
            " [0.625 0.375]\n",
            " [0.875 0.125]]\n"
          ],
          "name": "stdout"
        }
      ]
    },
    {
      "metadata": {
        "id": "y15tKMre1_Xm",
        "colab_type": "code",
        "colab": {
          "base_uri": "https://localhost:8080/",
          "height": 191
        },
        "outputId": "c963bf3b-8465-4043-e5eb-798d1c2336b7"
      },
      "cell_type": "code",
      "source": [
        "knn.predict_proba(X_tdf.values).max(axis=1)\n"
      ],
      "execution_count": 173,
      "outputs": [
        {
          "output_type": "execute_result",
          "data": {
            "text/plain": [
              "array([0.625, 0.875, 0.625, 0.625, 0.5  , 1.   , 0.5  , 0.625, 0.625,\n",
              "       0.5  , 0.875, 0.875, 1.   , 0.625, 0.75 , 0.75 , 0.75 , 0.5  ,\n",
              "       0.5  , 0.875, 0.625, 0.5  , 0.875, 0.875, 0.875, 0.75 , 0.875,\n",
              "       0.625, 0.75 , 0.875, 0.75 , 0.625, 0.625, 0.75 , 0.5  , 0.625,\n",
              "       0.75 , 0.75 , 0.625, 0.625, 0.75 , 0.875, 0.625, 0.75 , 0.75 ,\n",
              "       1.   , 0.75 , 0.625, 0.625, 0.875, 0.875, 0.625, 0.75 , 0.875,\n",
              "       0.5  , 0.625, 0.75 , 0.5  , 0.625, 0.5  , 0.75 , 0.625, 0.875,\n",
              "       0.75 , 0.625, 0.625, 0.75 , 0.625, 0.5  , 0.75 , 0.875, 0.875,\n",
              "       0.875, 0.75 , 0.875, 0.75 , 0.75 , 0.625, 0.625, 0.5  , 0.625,\n",
              "       0.875, 0.625, 0.875, 0.75 , 0.625, 0.625, 0.875, 0.625, 0.875])"
            ]
          },
          "metadata": {
            "tags": []
          },
          "execution_count": 173
        }
      ]
    },
    {
      "metadata": {
        "id": "owSY7Hcq2WiQ",
        "colab_type": "code",
        "colab": {}
      },
      "cell_type": "code",
      "source": [
        "import pandas\n",
        "\n",
        "val=knn.predict_proba(X_tdf.values).max(axis=1)\n",
        "mySF= pandas.DataFrame((val)).to_csv(\"results.csv\")\n",
        "mySF=files.download(\"results.csv\")"
      ],
      "execution_count": 0,
      "outputs": []
    }
  ]
}